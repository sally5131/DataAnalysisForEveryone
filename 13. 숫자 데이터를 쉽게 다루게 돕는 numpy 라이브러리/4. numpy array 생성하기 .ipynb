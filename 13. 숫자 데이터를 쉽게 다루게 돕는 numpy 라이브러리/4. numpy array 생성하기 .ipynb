{
 "cells": [
  {
   "cell_type": "markdown",
   "metadata": {},
   "source": [
    "numpy array 생성하기 \n",
    "\n",
    "ndarray : numpy 라이브러리에서 사용하는 'N차원 배열' \n",
    "\n",
    "리스트와 같은 연속된 데이터를 갖고, 인덱싱과 슬라이싱이 가능하지만 쉼표가 없고, 한 가지 타입의 데이터만이 저장할 수 있다는 것이 차이점이다. \n",
    "\n",
    "zeros(), ones(), eye() 함수를 사용해서 배열을 초기화한다. \n",
    "\n",
    "zeros() : 0으로 초기화\n",
    "\n",
    "ones() : 1으로 초기화\n",
    "\n",
    "eye() : 행렬로 초기화\n",
    "\n",
    "arange() : 특정 구간을 쪼개어 값을 생성하고, 간격을 지정한다. 특정 간격에 해당하는 값을 생성 \n",
    "\n",
    "값을 하나만 입력할 경우, 0부터 해당 숫자보다 1만큼 작은 정수까지 저장된 배열\n",
    "\n",
    "값을 두 개 입력할 경우, 첫 번째 숫자부터 두 번째 숫자보다 1만큼 작은 정수까지 저장된 배열\n",
    "\n",
    "값을 세 개 입력할 경우, 첫 번째 숫자부터 두 번째 숫자보다 1만큼 작은 정수까지의 범위에서 세 번째 숫자만큼의 간격을 둔 숫자가 저장된 배열\n",
    "\n",
    "linspace() : 특정 구간을 쪼개어 값을 생성하고, 구간의 개수를 지정한다. 특정 개수의 구간으로 나눈 값을 생성"
   ]
  },
  {
   "cell_type": "code",
   "execution_count": 1,
   "metadata": {},
   "outputs": [
    {
     "name": "stdout",
     "output_type": "stream",
     "text": [
      "[1 2 3 4]\n"
     ]
    }
   ],
   "source": [
    "# 리스트와 같은 모습이고, 쉼표가 없다. \n",
    "import numpy as np\n",
    "a=np.array([1,2,3,4]) # 리스트와 같은 연속된 데이터 \n",
    "print(a)"
   ]
  },
  {
   "cell_type": "code",
   "execution_count": 2,
   "metadata": {},
   "outputs": [
    {
     "name": "stdout",
     "output_type": "stream",
     "text": [
      "2 4\n",
      "[2 3 4]\n"
     ]
    }
   ],
   "source": [
    "# ndarray의 특정 인덱스에 해당하는 값을 출력하거나 슬라이싱 결과를 출력 \n",
    "import numpy as np\n",
    "a=np.array([1,2,3,4])\n",
    "print(a[1],a[-1]) # a의 1번 인덱스 값, -1번 인덱스 값 출력\n",
    "print(a[1:]) # a의 1번 인덱스를 기준으로 슬라이싱 결과 출력"
   ]
  },
  {
   "cell_type": "code",
   "execution_count": 4,
   "metadata": {},
   "outputs": [
    {
     "name": "stdout",
     "output_type": "stream",
     "text": [
      "['1' '2' '3' '4']\n"
     ]
    }
   ],
   "source": [
    "# 한 가지 타입의 데이터만이 저장할 수 있다.\n",
    "import numpy as np\n",
    "a=np.array([1,2,'3',4])\n",
    "print(a)\n",
    "# 숫자와 문자가 함께 저장되었다면 문자로 변환되어 저장되는 것 "
   ]
  },
  {
   "cell_type": "code",
   "execution_count": 5,
   "metadata": {},
   "outputs": [
    {
     "name": "stdout",
     "output_type": "stream",
     "text": [
      "[0. 0. 0. 0. 0. 0. 0. 0. 0. 0.]\n"
     ]
    }
   ],
   "source": [
    "# 배열 초기화\n",
    "import numpy as np\n",
    "a=np.zeros(10) # 0으로 이루어진 크기가 10인 배열 생성\n",
    "print(a)"
   ]
  },
  {
   "cell_type": "code",
   "execution_count": 6,
   "metadata": {},
   "outputs": [
    {
     "name": "stdout",
     "output_type": "stream",
     "text": [
      "[1. 1. 1. 1. 1. 1. 1. 1. 1. 1.]\n"
     ]
    }
   ],
   "source": [
    "# 배열 초기화\n",
    "import numpy as np\n",
    "a=np.ones(10) # 1로 이루어진 크기가 10인 배열 생성\n",
    "print(a)"
   ]
  },
  {
   "cell_type": "code",
   "execution_count": 7,
   "metadata": {},
   "outputs": [
    {
     "name": "stdout",
     "output_type": "stream",
     "text": [
      "[[1. 0. 0.]\n",
      " [0. 1. 0.]\n",
      " [0. 0. 1.]]\n"
     ]
    }
   ],
   "source": [
    "# 배열 초기화\n",
    "import numpy as np\n",
    "a=np.eye(3) # 3행x3열의 단위 배열 생성\n",
    "print(a)"
   ]
  },
  {
   "cell_type": "code",
   "execution_count": 10,
   "metadata": {},
   "outputs": [
    {
     "name": "stdout",
     "output_type": "stream",
     "text": [
      "[0 1 2]\n",
      "[3 4 5 6]\n",
      "[3 5]\n"
     ]
    }
   ],
   "source": [
    "# 연속된 숫자로 데이터를 생성하는 것\n",
    "import numpy as np\n",
    "print(np.arange(3)) # arrange() 함수에 1개 값 입력, 0부터 해당 숫자보다 1만큼 작은 정수까지 저장된 배열 \n",
    "print(np.arange(3,7)) # arrange() 함수에 2개 값 입력, 첫 번째 숫자부터 두 번째 숫자보다 1만큼 작은 정수까지 저장된 배열 \n",
    "print(np.arange(3,7,2)) # arrange() 함수에 3개 값 입력, 첫 번째 숫자부터 두 번째 슷지버디 1만큼 작은 정수까지의 범위에서 세 번째 숫자만큼의 가격을 둔 숫자가 저장된 배열 "
   ]
  },
  {
   "cell_type": "code",
   "execution_count": 11,
   "metadata": {},
   "outputs": [
    {
     "name": "stdout",
     "output_type": "stream",
     "text": [
      "[1.  1.1 1.2 1.3 1.4 1.5 1.6 1.7 1.8 1.9]\n",
      "[1.  1.1 1.2 1.3 1.4 1.5 1.6 1.7 1.8 1.9 2. ]\n"
     ]
    }
   ],
   "source": [
    "import numpy as np\n",
    "a=np.arange(1,2,0.1) # 1이상 2미만 구간에서 0.1 간격으로 실수 생성 \n",
    "b=np.linspace(1,2,11) # 1부터 2까지 11개 구간으로 나눈 실수 생성\n",
    "print(a)\n",
    "print(b)"
   ]
  },
  {
   "cell_type": "code",
   "execution_count": null,
   "metadata": {},
   "outputs": [],
   "source": []
  }
 ],
 "metadata": {
  "kernelspec": {
   "display_name": "Python 3",
   "language": "python",
   "name": "python3"
  },
  "language_info": {
   "codemirror_mode": {
    "name": "ipython",
    "version": 3
   },
   "file_extension": ".py",
   "mimetype": "text/x-python",
   "name": "python",
   "nbconvert_exporter": "python",
   "pygments_lexer": "ipython3",
   "version": "3.8.5"
  }
 },
 "nbformat": 4,
 "nbformat_minor": 4
}
