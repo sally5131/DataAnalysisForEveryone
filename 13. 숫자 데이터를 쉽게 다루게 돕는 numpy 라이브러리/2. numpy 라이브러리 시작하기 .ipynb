{
 "cells": [
  {
   "cell_type": "markdown",
   "metadata": {},
   "source": [
    "numpy 라이브러리 시작하기\n",
    "\n",
    "제곱근 출력\n",
    "\n",
    "numpy의 별명은 np\n",
    "\n",
    "파이값 np.pi , 삼각함수 np.sin, np.con 출력 \n",
    "\n",
    "rand()함수 실행하여 n개의 실수를 랜덤하게 생성 = random 라이브러리의 randint() 함수의 실수 (real number) 버전 \n",
    "\n",
    "choice(6,10) : 0~5 까지 10번 랜덤하게 출력 \n",
    "\n",
    "choice(6,10,replace=False) : 0~5까지 10번 중복없이 랜덤하게 출력 \n",
    "\n",
    "choice(6,10,p=[0.1,0.2,0.3,0.2,0.1,0.1]) : p확률 만큼 0~5까지 10번 랜덤하게 출력 "
   ]
  },
  {
   "cell_type": "code",
   "execution_count": 1,
   "metadata": {},
   "outputs": [
    {
     "name": "stdout",
     "output_type": "stream",
     "text": [
      "1.4142135623730951\n"
     ]
    }
   ],
   "source": [
    "import numpy\n",
    "print(numpy.sqrt(2))\n",
    "# 2의 제곱근을 출력"
   ]
  },
  {
   "cell_type": "code",
   "execution_count": 2,
   "metadata": {},
   "outputs": [
    {
     "name": "stdout",
     "output_type": "stream",
     "text": [
      "1.4142135623730951\n"
     ]
    }
   ],
   "source": [
    "import numpy as np # numpy의 별병은 np\n",
    "print(np.sqrt(2))"
   ]
  },
  {
   "cell_type": "code",
   "execution_count": 7,
   "metadata": {},
   "outputs": [
    {
     "name": "stdout",
     "output_type": "stream",
     "text": [
      "3.141592653589793\n",
      "0.0\n",
      "-1.0\n"
     ]
    }
   ],
   "source": [
    "import numpy as np \n",
    "print(np.pi) # 파이 값\n",
    "print(np.sin(0)) # 삼각함수 \n",
    "print(np.cos(np.pi)) # 삼각함수 "
   ]
  },
  {
   "cell_type": "code",
   "execution_count": 11,
   "metadata": {},
   "outputs": [
    {
     "name": "stdout",
     "output_type": "stream",
     "text": [
      "[0.25508245 0.21816205 0.85718297 0.85477226 0.09124642]\n",
      "<class 'numpy.ndarray'>\n"
     ]
    }
   ],
   "source": [
    "import numpy as np\n",
    "a=np.random.rand(5) # rand() 함수를 실행하면 0~1 사이에 있는 5개의 실수가 랜덤하게 생성\n",
    "print(a)\n",
    "print(type(a))\n",
    "# 리스트와 비슷하게 생긴 numpy.ndarray 타입의 데이터가 생성 \n",
    "# nd? N-Dimensional, N 차원 array? 배열 \n",
    "# random 라이브러리의 randint() 함수의 실수(real number) 버전 "
   ]
  },
  {
   "cell_type": "code",
   "execution_count": 13,
   "metadata": {},
   "outputs": [
    {
     "name": "stdout",
     "output_type": "stream",
     "text": [
      "[3 0 3 3 4 4 3 4 2 3]\n"
     ]
    }
   ],
   "source": [
    "import numpy as np\n",
    "print(np.random.choice(6,10)) \n",
    "# 0~5 사이의 숫자를 랜덤하게 10번 선택 "
   ]
  },
  {
   "cell_type": "code",
   "execution_count": 17,
   "metadata": {},
   "outputs": [
    {
     "name": "stdout",
     "output_type": "stream",
     "text": [
      "[9 2 0 4 6 5]\n"
     ]
    }
   ],
   "source": [
    "import numpy as np\n",
    "print(np.random.choice(10,6,replace=False))\n",
    "# 만약 한 번 뽑은 숫자를 다시 뽑지 못하게 하고 싶다면 replace=False 설정 \n",
    "# 0~9 사이의 숫자를 중복 없이 6번 선택 "
   ]
  },
  {
   "cell_type": "code",
   "execution_count": 21,
   "metadata": {},
   "outputs": [
    {
     "name": "stdout",
     "output_type": "stream",
     "text": [
      "[1 2 4 2 1 2 5 4 1 0]\n"
     ]
    }
   ],
   "source": [
    "import numpy as np\n",
    "print(np.random.choice(6,10, p=[0.1,0.2,0.3,0.2,0.1,0.1]))"
   ]
  }
 ],
 "metadata": {
  "kernelspec": {
   "display_name": "Python 3",
   "language": "python",
   "name": "python3"
  },
  "language_info": {
   "codemirror_mode": {
    "name": "ipython",
    "version": 3
   },
   "file_extension": ".py",
   "mimetype": "text/x-python",
   "name": "python",
   "nbconvert_exporter": "python",
   "pygments_lexer": "ipython3",
   "version": "3.8.5"
  }
 },
 "nbformat": 4,
 "nbformat_minor": 4
}
