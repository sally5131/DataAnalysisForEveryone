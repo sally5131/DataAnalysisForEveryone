{
 "cells": [
  {
   "cell_type": "markdown",
   "metadata": {},
   "source": [
    "밤 11시에 사람들이 가장 많이 타는 역은 어디일까 \n",
    "\n",
    "1. 데이터 가져오기\n",
    "\n",
    "2. 승차 시간 입력받기 \n",
    "\n",
    "3. 밤 11시에 가장 많이 타는 역 찾기\n",
    "\n",
    "4. 승차 인원이 가장 큰 역과 인원 값 출력하기 "
   ]
  },
  {
   "cell_type": "code",
   "execution_count": 3,
   "metadata": {},
   "outputs": [
    {
     "name": "stdout",
     "output_type": "stream",
     "text": [
      "몇 시의 승차 인원이 가장 많은 역이 궁금하세요? : 23\n",
      "강남(2호선) 145504\n"
     ]
    }
   ],
   "source": [
    "# 1. 데이터 가져오기\n",
    "import csv\n",
    "f=open('subwaytime.csv')\n",
    "data=csv.reader(f)\n",
    "next(data)\n",
    "next(data)\n",
    "\n",
    "# 2. 승차 시간 입력받기\n",
    "t=int(input('몇 시의 승차 인원이 가장 많은 역이 궁금하세요? : ')) # 승차 시각 입력받기\n",
    "\n",
    "# 3. 밤 11시에 가장 많이 타는 역 찾기 \n",
    "mx=0\n",
    "mx_station=['']\n",
    "for row in data:\n",
    "    row[4: ]=map(int,row[4: ]) # 문자열을 숫자형태로 변환\n",
    "    a=row[2*t-4] # 승차 시각과 인덱스 사이의 패턴 찾기\n",
    "    if a>mx: # 모든 데이터 탐색\n",
    "        mx=a\n",
    "        mx_station=row[3]+'('+row[1]+')'\n",
    "# 4. 승차 인원이 가장 큰 역과 인원 값 출력하기\n",
    "print(mx_station,mx)"
   ]
  }
 ],
 "metadata": {
  "kernelspec": {
   "display_name": "Python 3",
   "language": "python",
   "name": "python3"
  },
  "language_info": {
   "codemirror_mode": {
    "name": "ipython",
    "version": 3
   },
   "file_extension": ".py",
   "mimetype": "text/x-python",
   "name": "python",
   "nbconvert_exporter": "python",
   "pygments_lexer": "ipython3",
   "version": "3.8.5"
  }
 },
 "nbformat": 4,
 "nbformat_minor": 4
}
