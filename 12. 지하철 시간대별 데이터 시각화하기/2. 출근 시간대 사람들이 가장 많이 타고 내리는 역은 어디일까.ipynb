{
 "cells": [
  {
   "cell_type": "markdown",
   "metadata": {},
   "source": [
    "출근 시간대 사람들이 가장 많이 타고 내리는 역은 어디일까\n",
    "\n",
    "1. 데이터 불러오기 \n",
    "\n",
    "2. 10번 데이터의 인덱스만 추출해서 리스트에 저장하고 리스트의 길이와 리스트에 저장된 값을 출력하기\n",
    "\n",
    "3. 막대그래프로 표현하기\n",
    "\n",
    "bar() 함수 : 막대그래프를 표현하는 명령어 \n",
    "\n",
    "막대그래프에서 막대의 길이는 데이터의 크기를 의미한다.\n",
    "\n",
    "bar(막대를 표시할 위치, 막대의 높이)\n",
    "\n",
    "sort() 함수 : 데이터를 오름차순으로 정렬\n",
    "\n",
    "4. 최대값 찾기\n",
    "\n",
    "row[10:15:2]: 7시 승차: 9시 승차+1: 2시간동안 \n",
    "\n",
    "row[11:16:2]: 7시 하차: 9시 하차+1: 2시간동안"
   ]
  },
  {
   "cell_type": "code",
   "execution_count": 2,
   "metadata": {},
   "outputs": [
    {
     "name": "stdout",
     "output_type": "stream",
     "text": [
      "598\n",
      "[39110, 7703, 6733, 6066, 5143, 14893, 20077, 22615, 46015, 6088, 5822, 8459, 5822, 3225, 7973, 27835, 38199, 31012, 6313, 23263, 25458, 59821, 70814, 99368, 45639, 130638, 59461, 18787, 17974, 23502, 16391, 48487, 27365, 14946, 26301, 78413, 89675, 146181, 84974, 243083, 99608, 154641, 77272, 153133, 46364, 45277, 56578, 48068, 75744, 40444, 18646, 26197, 18343, 7965, 6917, 3353, 3160, 32301, 43628, 4860, 3988, 91650, 148741, 58325, 55607, 62354, 14773, 16297, 15231, 6464, 1992, 2337, 0, 5340, 25921, 27033, 24997, 17015, 13731, 16790, 28669, 8261, 27157, 36344, 15093, 8325, 25900, 3695, 25425, 21481, 38038, 22032, 23508, 26639, 49477, 101709, 59128, 108209, 141391, 127573, 54631, 92454, 88501, 52815, 33607, 17800, 5662, 7510, 10424, 5612, 6458, 12348, 18564, 5669, 11193, 13780, 4651, 49720, 78726, 3340, 6380, 12719, 21239, 19333, 31594, 42323, 9949, 24815, 39212, 15241, 47110, 44522, 37137, 89122, 28664, 89750, 19514, 28555, 71907, 42380, 77372, 43514, 16219, 48837, 9716, 9749, 21289, 3085, 11855, 9157, 5282, 24051, 5263, 1584, 12138, 8757, 28239, 11118, 13191, 102383, 51233, 139670, 127056, 133782, 104104, 33578, 67792, 73755, 39575, 48303, 5734, 28465, 40308, 43925, 27432, 7721, 22025, 45976, 15548, 8773, 2872, 5009, 34, 6761, 26713, 26535, 23224, 38643, 28922, 37100, 18199, 22515, 0, 33032, 20720, 27233, 28023, 60318, 45613, 26295, 19146, 37268, 8535, 22065, 21735, 10092, 4825, 5691, 5942, 64390, 15216, 16974, 86991, 30974, 51600, 30417, 11801, 26504, 7218, 18571, 35129, 20607, 21542, 1801, 673, 18617, 17858, 90202, 61519, 96163, 3688, 19126, 7004, 2419, 6744, 8430, 24977, 1, 28855, 14358, 5296, 7136, 4318, 18701, 45127, 62115, 57586, 35997, 17844, 29899, 26836, 33968, 14915, 10012, 43681, 20719, 19247, 37243, 19538, 18026, 18213, 47885, 17277, 22889, 7745, 39208, 0, 61144, 48268, 59077, 6137, 24609, 17547, 8953, 27554, 68616, 60949, 23633, 20676, 29526, 5547, 61624, 44038, 2480, 25941, 13618, 1264, 1384, 5843, 562, 2101, 1997, 801, 9690, 860, 3631, 187, 2195, 7123, 5753, 2837, 7925, 1972, 1687, 278, 4437, 4816, 2251, 1408, 18493, 5675, 2661, 3726, 18196, 43358, 16154, 1378, 35684, 24249, 52718, 42395, 21572, 27350, 16902, 20344, 2227, 2872, 18826, 0, 0, 0, 0, 0, 2051, 16695, 7884, 19369, 17273, 5176, 26488, 7130, 14939, 955, 3424, 532, 1996, 184, 73, 349, 431, 3911, 1997, 101, 8596, 12323, 14272, 6082, 1176, 14385, 14276, 9536, 19705, 11038, 3319, 2012, 3731, 3974, 10584, 29898, 10588, 5894, 3898, 6568, 4360, 833, 5265, 33410, 24572, 7401, 31836, 26095, 29477, 62971, 128061, 139522, 69298, 67001, 53755, 22228, 7654, 19069, 10431, 10399, 5459, 26163, 20404, 19821, 5579, 17043, 10566, 3606, 1411, 867, 6723, 22626, 33836, 6478, 16863, 56080, 49375, 32646, 43392, 43138, 28727, 67499, 24028, 37876, 33549, 35491, 75094, 25725, 10832, 20144, 10094, 26384, 32721, 22065, 72019, 17318, 12121, 13324, 1, 30752, 53100, 40142, 38344, 8515, 39459, 26662, 16590, 10188, 17413, 14834, 22427, 15392, 6875, 4892, 14369, 3236, 5585, 4568, 7413, 7727, 8849, 14905, 20553, 8862, 21609, 41534, 22912, 27561, 53407, 19499, 67381, 55748, 18286, 57793, 56751, 64546, 41621, 68168, 76395, 40606, 21401, 40404, 41591, 54399, 59324, 50925, 26108, 31636, 35718, 17282, 13275, 20581, 11981, 6990, 8657, 9914, 8329, 10577, 17631, 27280, 38829, 38570, 32099, 33041, 53375, 19842, 36148, 15804, 33675, 20278, 93286, 100278, 38233, 51028, 30096, 20759, 25287, 50700, 44400, 44977, 26143, 39162, 69923, 81944, 50030, 32446, 10599, 8611, 17587, 13303, 9910, 23995, 50900, 37594, 20480, 52891, 39400, 12815, 14597, 8904, 43458, 13832, 9051, 30341, 26742, 27634, 78872, 20434, 37541, 75256, 19186, 18591, 52644, 4252, 8655, 4056, 60869, 16764, 16984, 4976, 4600, 5107, 14830, 8584, 35371, 13461, 5827, 11519, 16128, 5458, 8804, 66113, 45980, 31076, 17140, 2165, 17466, 6331, 8188, 5728, 8758, 5401, 9939, 10595, 12092, 10227, 15152, 7309, 4438, 11517, 2068, 20599, 8566, 8940, 7188, 15720, 11517, 5945, 6395, 27463, 20034, 12345, 3373, 1868, 1098]\n"
     ]
    }
   ],
   "source": [
    "# 1. 데이터 불러오기\n",
    "import csv\n",
    "f=open('subwaytime.csv')\n",
    "data=csv.reader(f)\n",
    "next(data)\n",
    "next(data)\n",
    "\n",
    "# 2. 10번 인덱스의 데이터만 추출해서 리스트에 저장하고 리스트의 길이와 리스트에 저장된 값을 출력하기\n",
    "result=[]\n",
    "for row in data:\n",
    "    row[4:]=map(int,row[4:])\n",
    "    result.append(row[10])  # 아침 7시 승차 데이터만 추출해서 리스트에 저장\n",
    "print(len(result)) # 리스트의 길이 출력\n",
    "print(result) # 리스트에 저장된 값을 출력"
   ]
  },
  {
   "cell_type": "code",
   "execution_count": 26,
   "metadata": {},
   "outputs": [
    {
     "data": {
      "image/png": "[encoded data removed]",
      "text/plain": [
       "<Figure size 432x288 with 1 Axes>"
      ]
     },
     "metadata": {
      "needs_background": "light"
     },
     "output_type": "display_data"
    }
   ],
   "source": [
    "# 1. 데이터 불러오기\n",
    "import csv\n",
    "import matplotlib.pyplot as plt\n",
    "f=open('subwaytime.csv')\n",
    "data=csv.reader(f)\n",
    "next(data)\n",
    "next(data)\n",
    "\n",
    "# 2. 10번 인덱스의 데이터만 추출해서 리스트에 저장하고 리스트의 길이와 리스트에 저장된 값을 출력하기\n",
    "result=[]\n",
    "for row in data:\n",
    "    row[4:]=map(int,row[4:])\n",
    "    result.append(row[10])  # 아침 7시 승차 데이터만 추출해서 리스트에 저장\n",
    "# 3. 막대그래프로 표현하기\n",
    "plt.bar(range(len(result)),result)\n",
    "plt.show()\n",
    "# 아침 7시의 승차 인원 row[10]을 막대 그래프로 표현한 결과 "
   ]
  },
  {
   "cell_type": "code",
   "execution_count": 27,
   "metadata": {},
   "outputs": [
    {
     "data": {
      "image/png": "[encoded data removed]",
      "text/plain": [
       "<Figure size 432x288 with 1 Axes>"
      ]
     },
     "metadata": {
      "needs_background": "light"
     },
     "output_type": "display_data"
    }
   ],
   "source": [
    "# 1. 데이터 불러오기\n",
    "import csv\n",
    "import matplotlib.pyplot as plt\n",
    "f=open('subwaytime.csv')\n",
    "data=csv.reader(f)\n",
    "next(data)\n",
    "next(data)\n",
    "\n",
    "# 2. 10번 인덱스의 데이터만 추출해서 리스트에 저장하고 리스트의 길이와 리스트에 저장된 값을 출력하기\n",
    "result=[]\n",
    "for row in data:\n",
    "    row[4:]=map(int,row[4:])\n",
    "    result.append(row[10])  # 아침 7시 승차 데이터만 추출해서 리스트에 저장\n",
    "# 3. 막대그래프로 표현하기\n",
    "result.sort() # 오름차순으로 정렬\n",
    "plt.bar(range(len(result)),result)\n",
    "plt.show()\n",
    "# 아침 7시의 승차 인원 row[10]을 막대 그래프로 표현한 결과 "
   ]
  },
  {
   "cell_type": "code",
   "execution_count": 31,
   "metadata": {},
   "outputs": [
    {
     "data": {
      "image/png": "[encoded data removed]",
      "text/plain": [
       "<Figure size 432x288 with 1 Axes>"
      ]
     },
     "metadata": {
      "needs_background": "light"
     },
     "output_type": "display_data"
    }
   ],
   "source": [
    "# 1. 데이터 불러오기\n",
    "import csv\n",
    "import matplotlib.pyplot as plt\n",
    "f=open('subwaytime.csv')\n",
    "data=csv.reader(f)\n",
    "next(data)\n",
    "next(data)\n",
    "\n",
    "# 2. 10번 인덱스의 데이터만 추출해서 리스트에 저장하고 리스트의 길이와 리스트에 저장된 값을 출력하기\n",
    "result=[]\n",
    "for row in data:\n",
    "    row[4:]=map(int,row[4:])\n",
    "    result.append(sum(row[10:15:2]))  # 아침 7시, 8시, 9시 승차 데이터만 추출해서 리스트에 저장\n",
    "# 3. 막대그래프로 표현하기\n",
    "result.sort() # 오름차순으로 정렬\n",
    "plt.bar(range(len(result)),result)\n",
    "plt.show()\n",
    "# 아침 7시의 승차 인원 row[10]을 막대 그래프로 표현한 결과 "
   ]
  },
  {
   "cell_type": "code",
   "execution_count": 33,
   "metadata": {},
   "outputs": [
    {
     "name": "stdout",
     "output_type": "stream",
     "text": [
      "신림(2호선) 809541\n"
     ]
    }
   ],
   "source": [
    "#출근 시간대 사람들이 가장 많이 타는 역 찾기\n",
    "# 1. 데이터 불러오기\n",
    "import csv\n",
    "f=open('subwaytime.csv')\n",
    "data=csv.reader(f)\n",
    "next(data)\n",
    "next(data)\n",
    "\n",
    "# 2. 10번 인덱스의 데이터만 추출해서 리스트에 저장하고 리스트의 길이와 리스트에 저장된 값을 출력하기\n",
    "mx=0 # 최댓값을 저장할 변수 초기화\n",
    "mx_station='' # 최댓값을 갖는 역 이름 저장 변수 초기화\n",
    "\n",
    "# 3. 최댓값 찾기 (전부 탐색하여 최댓값을 갱신하는 방식) \n",
    "for row in data:\n",
    "    row[4:]=map(int,row[4:])\n",
    "    if sum(row[10:15:2])>mx:\n",
    "        mx=sum(row[10:15:2])\n",
    "        mx_station=row[3]+'('+row[1]+')'\n",
    "print(mx_station,mx)"
   ]
  },
  {
   "cell_type": "code",
   "execution_count": 36,
   "metadata": {},
   "outputs": [
    {
     "name": "stdout",
     "output_type": "stream",
     "text": [
      "강남(2호선) 984427\n"
     ]
    }
   ],
   "source": [
    "#출근 시간대 사람들이 가장 많이 내리는 역 찾기\n",
    "# 1. 데이터 불러오기\n",
    "import csv\n",
    "f=open('subwaytime.csv')\n",
    "data=csv.reader(f)\n",
    "next(data)\n",
    "next(data)\n",
    "\n",
    "# 2. 10번 인덱스의 데이터만 추출해서 리스트에 저장하고 리스트의 길이와 리스트에 저장된 값을 출력하기\n",
    "mx=0 # 최댓값을 저장할 변수 초기화\n",
    "mx_station='' # 최댓값을 갖는 역 이름 저장 변수 초기화\n",
    "\n",
    "# 3. 최댓값 찾기 (전부 탐색하여 최댓값을 갱신하는 방식) \n",
    "for row in data:\n",
    "    row[4:]=map(int,row[4:])\n",
    "    a=sum(row[11:16:2])\n",
    "    if a>mx:\n",
    "        mx=a\n",
    "        mx_station=row[3]+'('+row[1]+')'\n",
    "print(mx_station,mx)"
   ]
  }
 ],
 "metadata": {
  "kernelspec": {
   "display_name": "Python 3",
   "language": "python",
   "name": "python3"
  },
  "language_info": {
   "codemirror_mode": {
    "name": "ipython",
    "version": 3
   },
   "file_extension": ".py",
   "mimetype": "text/x-python",
   "name": "python",
   "nbconvert_exporter": "python",
   "pygments_lexer": "ipython3",
   "version": "3.8.5"
  }
 },
 "nbformat": 4,
 "nbformat_minor": 4
}
