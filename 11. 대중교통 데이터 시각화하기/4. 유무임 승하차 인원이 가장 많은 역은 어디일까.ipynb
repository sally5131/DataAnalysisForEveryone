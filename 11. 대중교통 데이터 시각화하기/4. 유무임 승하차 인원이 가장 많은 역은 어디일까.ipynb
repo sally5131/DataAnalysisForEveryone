{
 "cells": [
  {
   "cell_type": "code",
   "execution_count": null,
   "metadata": {},
   "outputs": [],
   "source": [
    "유무임 승하차 인원이 가장 많은 역은 어디일까\n",
    "\n",
    "알고리즘\n",
    "\n",
    "1) 데이터를 읽어온다. \n",
    "\n",
    "2) 모든 역의 데이터를 바탕으로 유임 승차, 유임 하차, 무임 승차, 무임 하차 인원이 가장 많은 역을 찾는다. \n",
    "\n",
    "3) 각각의 인원이 가장 많은 역을 출력한다. \n",
    "\n",
    "리스트와 반복문을 활용한다."
   ]
  },
  {
   "cell_type": "code",
   "execution_count": 17,
   "metadata": {},
   "outputs": [
    {
     "name": "stdout",
     "output_type": "stream",
     "text": [
      "강남2호선 3153418\n",
      "강남2호선 3210437\n",
      "종로3가1호선 387062\n",
      "제기동1호선 400607\n"
     ]
    }
   ],
   "source": [
    "# 1) 데이터를 읽어온다.\n",
    "import csv\n",
    "f=open('subwayfee.csv', encoding='utf8')\n",
    "data=csv.reader(f)\n",
    "next(data)\n",
    "\n",
    "# 2) 모든 역의 데이터를 바탕으로 유임 승차, 유임 하차, 무임 승차, 무임 하차 인원이 가장 많은 역을 찾는다. \n",
    "mx=[0]*4 \n",
    "# max=[0,0,0,0]\n",
    "mx_station=['']*4 \n",
    "# mx_station=['','','','']\n",
    "for row in data:\n",
    "    for i in range(4,8):\n",
    "        row[i]=int(row[i])\n",
    "        if row[i]>mx[i-4]:\n",
    "            mx[i-4]=row[i]\n",
    "            mx_station[i-4]=row[3]+''+row[1]\n",
    "# 3) 각각의 인원이 가장 많은 역을 출력한다. \n",
    "for i in range(4):\n",
    "    print(mx_station[i],mx[i])"
   ]
  },
  {
   "cell_type": "code",
   "execution_count": 18,
   "metadata": {},
   "outputs": [
    {
     "name": "stdout",
     "output_type": "stream",
     "text": [
      "유임승차 : 강남2호선 3153418\n",
      "유임하차 : 강남2호선 3210437\n",
      "무임승차 : 종로3가1호선 387062\n",
      "무임하차 : 제기동1호선 400607\n"
     ]
    }
   ],
   "source": [
    "# 1) 데이터를 읽어온다.\n",
    "import csv\n",
    "f=open('subwayfee.csv', encoding='utf8')\n",
    "data=csv.reader(f)\n",
    "next(data)\n",
    "\n",
    "# 2) 모든 역의 데이터를 바탕으로 유임 승차, 유임 하차, 무임 승차, 무임 하차 인원이 가장 많은 역을 찾는다. \n",
    "mx=[0]*4 \n",
    "# max=[0,0,0,0]\n",
    "mx_station=['']*4 \n",
    "# mx_station=['','','','']\n",
    "label=['유임승차','유임하차','무임승차','무임하차'] \n",
    "# 각각의 데이터가 어떤 것을 의미하는지 레이블을 추가\n",
    "\n",
    "for row in data:\n",
    "    for i in range(4,8):\n",
    "        row[i]=int(row[i])\n",
    "        if row[i]>mx[i-4]:\n",
    "            mx[i-4]=row[i]\n",
    "            mx_station[i-4]=row[3]+''+row[1]\n",
    "            \n",
    "# 3) 각각의 인원이 가장 많은 역을 출력한다. \n",
    "for i in range(4):\n",
    "    print(label[i]+' : '+mx_station[i],mx[i])"
   ]
  }
 ],
 "metadata": {
  "kernelspec": {
   "display_name": "Python 3",
   "language": "python",
   "name": "python3"
  },
  "language_info": {
   "codemirror_mode": {
    "name": "ipython",
    "version": 3
   },
   "file_extension": ".py",
   "mimetype": "text/x-python",
   "name": "python",
   "nbconvert_exporter": "python",
   "pygments_lexer": "ipython3",
   "version": "3.8.5"
  }
 },
 "nbformat": 4,
 "nbformat_minor": 4
}
